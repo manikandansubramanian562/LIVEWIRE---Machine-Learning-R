{
 "cells": [
  {
   "cell_type": "code",
   "execution_count": 12,
   "metadata": {},
   "outputs": [
    {
     "name": "stderr",
     "output_type": "stream",
     "text": [
      "Loading required package: lattice\n",
      "Loading required package: ggplot2\n",
      "Registered S3 methods overwritten by 'ggplot2':\n",
      "  method         from \n",
      "  [.quosures     rlang\n",
      "  c.quosures     rlang\n",
      "  print.quosures rlang\n"
     ]
    }
   ],
   "source": [
    "library(caret)\n",
    "library(ggplot2)"
   ]
  },
  {
   "cell_type": "code",
   "execution_count": null,
   "metadata": {},
   "outputs": [],
   "source": []
  },
  {
   "cell_type": "code",
   "execution_count": 1,
   "metadata": {},
   "outputs": [],
   "source": [
    "df <- read.csv(\"glass.csv\")"
   ]
  },
  {
   "cell_type": "code",
   "execution_count": 2,
   "metadata": {},
   "outputs": [
    {
     "data": {
      "text/html": [
       "<table>\n",
       "<thead><tr><th scope=col>RI</th><th scope=col>Na</th><th scope=col>Mg</th><th scope=col>Al</th><th scope=col>Si</th><th scope=col>K</th><th scope=col>Ca</th><th scope=col>Ba</th><th scope=col>Fe</th><th scope=col>Type</th></tr></thead>\n",
       "<tbody>\n",
       "\t<tr><td>1.52101</td><td>13.64  </td><td>4.49   </td><td>1.10   </td><td>71.78  </td><td>0.06   </td><td>8.75   </td><td>0      </td><td>0.00   </td><td>1      </td></tr>\n",
       "\t<tr><td>1.51761</td><td>13.89  </td><td>3.60   </td><td>1.36   </td><td>72.73  </td><td>0.48   </td><td>7.83   </td><td>0      </td><td>0.00   </td><td>1      </td></tr>\n",
       "\t<tr><td>1.51618</td><td>13.53  </td><td>3.55   </td><td>1.54   </td><td>72.99  </td><td>0.39   </td><td>7.78   </td><td>0      </td><td>0.00   </td><td>1      </td></tr>\n",
       "\t<tr><td>1.51766</td><td>13.21  </td><td>3.69   </td><td>1.29   </td><td>72.61  </td><td>0.57   </td><td>8.22   </td><td>0      </td><td>0.00   </td><td>1      </td></tr>\n",
       "\t<tr><td>1.51742</td><td>13.27  </td><td>3.62   </td><td>1.24   </td><td>73.08  </td><td>0.55   </td><td>8.07   </td><td>0      </td><td>0.00   </td><td>1      </td></tr>\n",
       "\t<tr><td>1.51596</td><td>12.79  </td><td>3.61   </td><td>1.62   </td><td>72.97  </td><td>0.64   </td><td>8.07   </td><td>0      </td><td>0.26   </td><td>1      </td></tr>\n",
       "</tbody>\n",
       "</table>\n"
      ],
      "text/latex": [
       "\\begin{tabular}{r|llllllllll}\n",
       " RI & Na & Mg & Al & Si & K & Ca & Ba & Fe & Type\\\\\n",
       "\\hline\n",
       "\t 1.52101 & 13.64   & 4.49    & 1.10    & 71.78   & 0.06    & 8.75    & 0       & 0.00    & 1      \\\\\n",
       "\t 1.51761 & 13.89   & 3.60    & 1.36    & 72.73   & 0.48    & 7.83    & 0       & 0.00    & 1      \\\\\n",
       "\t 1.51618 & 13.53   & 3.55    & 1.54    & 72.99   & 0.39    & 7.78    & 0       & 0.00    & 1      \\\\\n",
       "\t 1.51766 & 13.21   & 3.69    & 1.29    & 72.61   & 0.57    & 8.22    & 0       & 0.00    & 1      \\\\\n",
       "\t 1.51742 & 13.27   & 3.62    & 1.24    & 73.08   & 0.55    & 8.07    & 0       & 0.00    & 1      \\\\\n",
       "\t 1.51596 & 12.79   & 3.61    & 1.62    & 72.97   & 0.64    & 8.07    & 0       & 0.26    & 1      \\\\\n",
       "\\end{tabular}\n"
      ],
      "text/markdown": [
       "\n",
       "| RI | Na | Mg | Al | Si | K | Ca | Ba | Fe | Type |\n",
       "|---|---|---|---|---|---|---|---|---|---|\n",
       "| 1.52101 | 13.64   | 4.49    | 1.10    | 71.78   | 0.06    | 8.75    | 0       | 0.00    | 1       |\n",
       "| 1.51761 | 13.89   | 3.60    | 1.36    | 72.73   | 0.48    | 7.83    | 0       | 0.00    | 1       |\n",
       "| 1.51618 | 13.53   | 3.55    | 1.54    | 72.99   | 0.39    | 7.78    | 0       | 0.00    | 1       |\n",
       "| 1.51766 | 13.21   | 3.69    | 1.29    | 72.61   | 0.57    | 8.22    | 0       | 0.00    | 1       |\n",
       "| 1.51742 | 13.27   | 3.62    | 1.24    | 73.08   | 0.55    | 8.07    | 0       | 0.00    | 1       |\n",
       "| 1.51596 | 12.79   | 3.61    | 1.62    | 72.97   | 0.64    | 8.07    | 0       | 0.26    | 1       |\n",
       "\n"
      ],
      "text/plain": [
       "  RI      Na    Mg   Al   Si    K    Ca   Ba Fe   Type\n",
       "1 1.52101 13.64 4.49 1.10 71.78 0.06 8.75 0  0.00 1   \n",
       "2 1.51761 13.89 3.60 1.36 72.73 0.48 7.83 0  0.00 1   \n",
       "3 1.51618 13.53 3.55 1.54 72.99 0.39 7.78 0  0.00 1   \n",
       "4 1.51766 13.21 3.69 1.29 72.61 0.57 8.22 0  0.00 1   \n",
       "5 1.51742 13.27 3.62 1.24 73.08 0.55 8.07 0  0.00 1   \n",
       "6 1.51596 12.79 3.61 1.62 72.97 0.64 8.07 0  0.26 1   "
      ]
     },
     "metadata": {},
     "output_type": "display_data"
    }
   ],
   "source": [
    "head(df)"
   ]
  },
  {
   "cell_type": "code",
   "execution_count": 3,
   "metadata": {},
   "outputs": [
    {
     "data": {
      "text/plain": [
       "       RI              Na              Mg              Al       \n",
       " Min.   :1.511   Min.   :10.73   Min.   :0.000   Min.   :0.290  \n",
       " 1st Qu.:1.517   1st Qu.:12.91   1st Qu.:2.115   1st Qu.:1.190  \n",
       " Median :1.518   Median :13.30   Median :3.480   Median :1.360  \n",
       " Mean   :1.518   Mean   :13.41   Mean   :2.685   Mean   :1.445  \n",
       " 3rd Qu.:1.519   3rd Qu.:13.82   3rd Qu.:3.600   3rd Qu.:1.630  \n",
       " Max.   :1.534   Max.   :17.38   Max.   :4.490   Max.   :3.500  \n",
       "       Si              K                Ca               Ba       \n",
       " Min.   :69.81   Min.   :0.0000   Min.   : 5.430   Min.   :0.000  \n",
       " 1st Qu.:72.28   1st Qu.:0.1225   1st Qu.: 8.240   1st Qu.:0.000  \n",
       " Median :72.79   Median :0.5550   Median : 8.600   Median :0.000  \n",
       " Mean   :72.65   Mean   :0.4971   Mean   : 8.957   Mean   :0.175  \n",
       " 3rd Qu.:73.09   3rd Qu.:0.6100   3rd Qu.: 9.172   3rd Qu.:0.000  \n",
       " Max.   :75.41   Max.   :6.2100   Max.   :16.190   Max.   :3.150  \n",
       "       Fe               Type     \n",
       " Min.   :0.00000   Min.   :1.00  \n",
       " 1st Qu.:0.00000   1st Qu.:1.00  \n",
       " Median :0.00000   Median :2.00  \n",
       " Mean   :0.05701   Mean   :2.78  \n",
       " 3rd Qu.:0.10000   3rd Qu.:3.00  \n",
       " Max.   :0.51000   Max.   :7.00  "
      ]
     },
     "metadata": {},
     "output_type": "display_data"
    }
   ],
   "source": [
    "summary(df)"
   ]
  },
  {
   "cell_type": "code",
   "execution_count": 4,
   "metadata": {},
   "outputs": [],
   "source": [
    "df$Type <- as.factor(df$Type)"
   ]
  },
  {
   "cell_type": "code",
   "execution_count": 6,
   "metadata": {},
   "outputs": [],
   "source": [
    "df_1 <- sort(sample(nrow(df),nrow(df)*0.7))"
   ]
  },
  {
   "cell_type": "code",
   "execution_count": 7,
   "metadata": {},
   "outputs": [],
   "source": [
    "train_df <- df[df_1,]\n",
    "test_df <- df[-df_1,]"
   ]
  },
  {
   "cell_type": "code",
   "execution_count": 8,
   "metadata": {},
   "outputs": [
    {
     "data": {
      "text/html": [
       "<ol class=list-inline>\n",
       "\t<li>149</li>\n",
       "\t<li>10</li>\n",
       "</ol>\n"
      ],
      "text/latex": [
       "\\begin{enumerate*}\n",
       "\\item 149\n",
       "\\item 10\n",
       "\\end{enumerate*}\n"
      ],
      "text/markdown": [
       "1. 149\n",
       "2. 10\n",
       "\n",
       "\n"
      ],
      "text/plain": [
       "[1] 149  10"
      ]
     },
     "metadata": {},
     "output_type": "display_data"
    },
    {
     "data": {
      "text/html": [
       "<ol class=list-inline>\n",
       "\t<li>65</li>\n",
       "\t<li>10</li>\n",
       "</ol>\n"
      ],
      "text/latex": [
       "\\begin{enumerate*}\n",
       "\\item 65\n",
       "\\item 10\n",
       "\\end{enumerate*}\n"
      ],
      "text/markdown": [
       "1. 65\n",
       "2. 10\n",
       "\n",
       "\n"
      ],
      "text/plain": [
       "[1] 65 10"
      ]
     },
     "metadata": {},
     "output_type": "display_data"
    }
   ],
   "source": [
    "dim(train_df)\n",
    "dim(test_df)"
   ]
  },
  {
   "cell_type": "code",
   "execution_count": 10,
   "metadata": {},
   "outputs": [
    {
     "data": {
      "text/plain": [
       "\n",
       " 1  2  3  5  6  7 \n",
       "49 52  7  9  8 24 "
      ]
     },
     "metadata": {},
     "output_type": "display_data"
    }
   ],
   "source": [
    "table(train_df$Type)"
   ]
  },
  {
   "cell_type": "code",
   "execution_count": 13,
   "metadata": {},
   "outputs": [],
   "source": [
    "trctrl <- trainControl(method = \"repeatedcv\", number = 10, repeats = 3)"
   ]
  },
  {
   "cell_type": "code",
   "execution_count": 21,
   "metadata": {},
   "outputs": [],
   "source": [
    "knn <- (knn_fit <- train(Type ~., data = train_df, method = \"knn\",\n",
    "                 trControl=trctrl,\n",
    "                 preProcess = c(\"center\", \"scale\"),\n",
    "                 tuneLength = 15))"
   ]
  },
  {
   "cell_type": "code",
   "execution_count": 22,
   "metadata": {},
   "outputs": [
    {
     "data": {
      "text/plain": [
       "k-Nearest Neighbors \n",
       "\n",
       "149 samples\n",
       "  9 predictor\n",
       "  6 classes: '1', '2', '3', '5', '6', '7' \n",
       "\n",
       "Pre-processing: centered (9), scaled (9) \n",
       "Resampling: Cross-Validated (10 fold, repeated 3 times) \n",
       "Summary of sample sizes: 134, 133, 135, 135, 133, 135, ... \n",
       "Resampling results across tuning parameters:\n",
       "\n",
       "  k   Accuracy   Kappa    \n",
       "   5  0.6781871  0.5495770\n",
       "   7  0.6674948  0.5339424\n",
       "   9  0.6426128  0.4963607\n",
       "  11  0.6308646  0.4795903\n",
       "  13  0.6186901  0.4598918\n",
       "  15  0.6200347  0.4564015\n",
       "  17  0.6153008  0.4489661\n",
       "  19  0.6124320  0.4430787\n",
       "  21  0.6039516  0.4301547\n",
       "  23  0.5928008  0.4124543\n",
       "  25  0.5907373  0.4063759\n",
       "  27  0.5792446  0.3885476\n",
       "  29  0.5721754  0.3794303\n",
       "  31  0.5679889  0.3732079\n",
       "  33  0.5787276  0.3895722\n",
       "\n",
       "Accuracy was used to select the optimal model using the largest value.\n",
       "The final value used for the model was k = 5."
      ]
     },
     "metadata": {},
     "output_type": "display_data"
    }
   ],
   "source": [
    "knn"
   ]
  },
  {
   "cell_type": "code",
   "execution_count": 23,
   "metadata": {},
   "outputs": [
    {
     "data": {
      "image/png": "[encoded data removed]",
      "text/plain": [
       "plot without title"
      ]
     },
     "metadata": {},
     "output_type": "display_data"
    }
   ],
   "source": [
    "plot(knn)"
   ]
  },
  {
   "cell_type": "code",
   "execution_count": 24,
   "metadata": {},
   "outputs": [],
   "source": [
    "test_pred <- predict(knn, test_df)"
   ]
  },
  {
   "cell_type": "code",
   "execution_count": 26,
   "metadata": {},
   "outputs": [
    {
     "data": {
      "text/plain": [
       "Confusion Matrix and Statistics\n",
       "\n",
       "          Reference\n",
       "Prediction  1  2  3  5  6  7\n",
       "         1 15  3  5  0  0  0\n",
       "         2  6 20  5  1  0  1\n",
       "         3  0  0  0  0  0  0\n",
       "         5  0  0  0  2  0  0\n",
       "         6  0  1  0  0  1  0\n",
       "         7  0  0  0  1  0  4\n",
       "\n",
       "Overall Statistics\n",
       "                                          \n",
       "               Accuracy : 0.6462          \n",
       "                 95% CI : (0.5177, 0.7608)\n",
       "    No Information Rate : 0.3692          \n",
       "    P-Value [Acc > NIR] : 5.463e-06       \n",
       "                                          \n",
       "                  Kappa : 0.4871          \n",
       "                                          \n",
       " Mcnemar's Test P-Value : NA              \n",
       "\n",
       "Statistics by Class:\n",
       "\n",
       "                     Class: 1 Class: 2 Class: 3 Class: 5 Class: 6 Class: 7\n",
       "Sensitivity            0.7143   0.8333   0.0000  0.50000  1.00000  0.80000\n",
       "Specificity            0.8182   0.6829   1.0000  1.00000  0.98438  0.98333\n",
       "Pos Pred Value         0.6522   0.6061      NaN  1.00000  0.50000  0.80000\n",
       "Neg Pred Value         0.8571   0.8750   0.8462  0.96825  1.00000  0.98333\n",
       "Prevalence             0.3231   0.3692   0.1538  0.06154  0.01538  0.07692\n",
       "Detection Rate         0.2308   0.3077   0.0000  0.03077  0.01538  0.06154\n",
       "Detection Prevalence   0.3538   0.5077   0.0000  0.03077  0.03077  0.07692\n",
       "Balanced Accuracy      0.7662   0.7581   0.5000  0.75000  0.99219  0.89167"
      ]
     },
     "metadata": {},
     "output_type": "display_data"
    }
   ],
   "source": [
    "confusionMatrix(test_pred, test_df$Type)"
   ]
  },
  {
   "cell_type": "code",
   "execution_count": 28,
   "metadata": {},
   "outputs": [
    {
     "data": {
      "text/html": [
       "0.646153846153846"
      ],
      "text/latex": [
       "0.646153846153846"
      ],
      "text/markdown": [
       "0.646153846153846"
      ],
      "text/plain": [
       "[1] 0.6461538"
      ]
     },
     "metadata": {},
     "output_type": "display_data"
    }
   ],
   "source": [
    "mean(test_pred==test_df$Type)"
   ]
  }
 ],
 "metadata": {
  "kernelspec": {
   "display_name": "R",
   "language": "R",
   "name": "ir"
  },
  "language_info": {
   "codemirror_mode": "r",
   "file_extension": ".r",
   "mimetype": "text/x-r-source",
   "name": "R",
   "pygments_lexer": "r",
   "version": "3.6.1"
  }
 },
 "nbformat": 4,
 "nbformat_minor": 2
}
