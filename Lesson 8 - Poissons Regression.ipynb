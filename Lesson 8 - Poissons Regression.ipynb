{
 "cells": [
  {
   "cell_type": "code",
   "execution_count": 1,
   "metadata": {},
   "outputs": [],
   "source": [
    "rm(list=ls())"
   ]
  },
  {
   "cell_type": "code",
   "execution_count": 5,
   "metadata": {},
   "outputs": [],
   "source": [
    "df=read.table(\"http://quantedu.com/wp-content/uploads/2014/05/job.txt\",header=T)"
   ]
  },
  {
   "cell_type": "code",
   "execution_count": 6,
   "metadata": {},
   "outputs": [
    {
     "data": {
      "text/html": [
       "<table>\n",
       "<thead><tr><th scope=col>Job</th><th scope=col>Race</th><th scope=col>Income</th><th scope=col>GPA</th></tr></thead>\n",
       "<tbody>\n",
       "\t<tr><td>0     </td><td>3     </td><td>39.693</td><td>2.53  </td></tr>\n",
       "\t<tr><td>0     </td><td>3     </td><td>45.250</td><td>1.99  </td></tr>\n",
       "\t<tr><td>0     </td><td>3     </td><td>45.688</td><td>3.83  </td></tr>\n",
       "\t<tr><td>0     </td><td>3     </td><td>46.927</td><td>1.99  </td></tr>\n",
       "\t<tr><td>1     </td><td>3     </td><td>47.436</td><td>3.21  </td></tr>\n",
       "\t<tr><td>0     </td><td>3     </td><td>47.382</td><td>3.33  </td></tr>\n",
       "\t<tr><td>0     </td><td>3     </td><td>47.169</td><td>3.36  </td></tr>\n",
       "\t<tr><td>0     </td><td>3     </td><td>48.381</td><td>3.91  </td></tr>\n",
       "\t<tr><td>0     </td><td>3     </td><td>48.948</td><td>3.13  </td></tr>\n",
       "\t<tr><td>0     </td><td>3     </td><td>48.092</td><td>3.28  </td></tr>\n",
       "</tbody>\n",
       "</table>\n"
      ],
      "text/latex": [
       "\\begin{tabular}{r|llll}\n",
       " Job & Race & Income & GPA\\\\\n",
       "\\hline\n",
       "\t 0      & 3      & 39.693 & 2.53  \\\\\n",
       "\t 0      & 3      & 45.250 & 1.99  \\\\\n",
       "\t 0      & 3      & 45.688 & 3.83  \\\\\n",
       "\t 0      & 3      & 46.927 & 1.99  \\\\\n",
       "\t 1      & 3      & 47.436 & 3.21  \\\\\n",
       "\t 0      & 3      & 47.382 & 3.33  \\\\\n",
       "\t 0      & 3      & 47.169 & 3.36  \\\\\n",
       "\t 0      & 3      & 48.381 & 3.91  \\\\\n",
       "\t 0      & 3      & 48.948 & 3.13  \\\\\n",
       "\t 0      & 3      & 48.092 & 3.28  \\\\\n",
       "\\end{tabular}\n"
      ],
      "text/markdown": [
       "\n",
       "| Job | Race | Income | GPA |\n",
       "|---|---|---|---|\n",
       "| 0      | 3      | 39.693 | 2.53   |\n",
       "| 0      | 3      | 45.250 | 1.99   |\n",
       "| 0      | 3      | 45.688 | 3.83   |\n",
       "| 0      | 3      | 46.927 | 1.99   |\n",
       "| 1      | 3      | 47.436 | 3.21   |\n",
       "| 0      | 3      | 47.382 | 3.33   |\n",
       "| 0      | 3      | 47.169 | 3.36   |\n",
       "| 0      | 3      | 48.381 | 3.91   |\n",
       "| 0      | 3      | 48.948 | 3.13   |\n",
       "| 0      | 3      | 48.092 | 3.28   |\n",
       "\n"
      ],
      "text/plain": [
       "   Job Race Income GPA \n",
       "1  0   3    39.693 2.53\n",
       "2  0   3    45.250 1.99\n",
       "3  0   3    45.688 3.83\n",
       "4  0   3    46.927 1.99\n",
       "5  1   3    47.436 3.21\n",
       "6  0   3    47.382 3.33\n",
       "7  0   3    47.169 3.36\n",
       "8  0   3    48.381 3.91\n",
       "9  0   3    48.948 3.13\n",
       "10 0   3    48.092 3.28"
      ]
     },
     "metadata": {},
     "output_type": "display_data"
    }
   ],
   "source": [
    "head(df,10)"
   ]
  },
  {
   "cell_type": "code",
   "execution_count": 7,
   "metadata": {},
   "outputs": [],
   "source": [
    "df$Race <- as.factor(df$Race) "
   ]
  },
  {
   "cell_type": "code",
   "execution_count": 10,
   "metadata": {},
   "outputs": [],
   "source": [
    "poisson_model <- glm(Job~Race+Income+GPA,family=\"poisson\",data=df)"
   ]
  },
  {
   "cell_type": "code",
   "execution_count": 14,
   "metadata": {},
   "outputs": [
    {
     "name": "stderr",
     "output_type": "stream",
     "text": [
      "Waiting for profiling to be done...\n"
     ]
    },
    {
     "data": {
      "text/html": [
       "<table>\n",
       "<thead><tr><th></th><th scope=col>co</th><th scope=col>2.5 %</th><th scope=col>97.5 %</th></tr></thead>\n",
       "<tbody>\n",
       "\t<tr><th scope=row>(Intercept)</th><td>0.003004161 </td><td>0.0007308336</td><td>0.01167968  </td></tr>\n",
       "\t<tr><th scope=row>Race2</th><td>2.811686825 </td><td>1.5523542481</td><td>5.62637686  </td></tr>\n",
       "\t<tr><th scope=row>Race3</th><td>1.310301471 </td><td>0.5854852933</td><td>2.98624050  </td></tr>\n",
       "\t<tr><th scope=row>Income</th><td>1.066367468 </td><td>1.0494809143</td><td>1.08382221  </td></tr>\n",
       "\t<tr><th scope=row>GPA</th><td>1.129708044 </td><td>0.9120963633</td><td>1.40195401  </td></tr>\n",
       "</tbody>\n",
       "</table>\n"
      ],
      "text/latex": [
       "\\begin{tabular}{r|lll}\n",
       "  & co & 2.5 \\% & 97.5 \\%\\\\\n",
       "\\hline\n",
       "\t(Intercept) & 0.003004161  & 0.0007308336 & 0.01167968  \\\\\n",
       "\tRace2 & 2.811686825  & 1.5523542481 & 5.62637686  \\\\\n",
       "\tRace3 & 1.310301471  & 0.5854852933 & 2.98624050  \\\\\n",
       "\tIncome & 1.066367468  & 1.0494809143 & 1.08382221  \\\\\n",
       "\tGPA & 1.129708044  & 0.9120963633 & 1.40195401  \\\\\n",
       "\\end{tabular}\n"
      ],
      "text/markdown": [
       "\n",
       "| <!--/--> | co | 2.5 % | 97.5 % |\n",
       "|---|---|---|---|\n",
       "| (Intercept) | 0.003004161  | 0.0007308336 | 0.01167968   |\n",
       "| Race2 | 2.811686825  | 1.5523542481 | 5.62637686   |\n",
       "| Race3 | 1.310301471  | 0.5854852933 | 2.98624050   |\n",
       "| Income | 1.066367468  | 1.0494809143 | 1.08382221   |\n",
       "| GPA | 1.129708044  | 0.9120963633 | 1.40195401   |\n",
       "\n"
      ],
      "text/plain": [
       "            co          2.5 %        97.5 %    \n",
       "(Intercept) 0.003004161 0.0007308336 0.01167968\n",
       "Race2       2.811686825 1.5523542481 5.62637686\n",
       "Race3       1.310301471 0.5854852933 2.98624050\n",
       "Income      1.066367468 1.0494809143 1.08382221\n",
       "GPA         1.129708044 0.9120963633 1.40195401"
      ]
     },
     "metadata": {},
     "output_type": "display_data"
    }
   ],
   "source": [
    "exp(cbind(co=coef(poisson_model),confint(poisson_model)))"
   ]
  },
  {
   "cell_type": "markdown",
   "metadata": {},
   "source": [
    "GPA IS NOT SIGNIFICANT AS IT HAS 1 IN ITS CONFINDANCE LEVEL, SO WE CAN REMOVE IT"
   ]
  },
  {
   "cell_type": "code",
   "execution_count": 15,
   "metadata": {},
   "outputs": [],
   "source": [
    "poisson_model_1 <- glm(Job~Race+Income,family=\"poisson\",data=df)"
   ]
  },
  {
   "cell_type": "code",
   "execution_count": 17,
   "metadata": {},
   "outputs": [
    {
     "data": {
      "text/html": [
       "<table>\n",
       "<thead><tr><th scope=col>Income</th><th scope=col>Race</th></tr></thead>\n",
       "<tbody>\n",
       "\t<tr><td>63.66208</td><td>1       </td></tr>\n",
       "\t<tr><td>63.66208</td><td>2       </td></tr>\n",
       "\t<tr><td>63.66208</td><td>3       </td></tr>\n",
       "</tbody>\n",
       "</table>\n"
      ],
      "text/latex": [
       "\\begin{tabular}{r|ll}\n",
       " Income & Race\\\\\n",
       "\\hline\n",
       "\t 63.66208 & 1       \\\\\n",
       "\t 63.66208 & 2       \\\\\n",
       "\t 63.66208 & 3       \\\\\n",
       "\\end{tabular}\n"
      ],
      "text/markdown": [
       "\n",
       "| Income | Race |\n",
       "|---|---|\n",
       "| 63.66208 | 1        |\n",
       "| 63.66208 | 2        |\n",
       "| 63.66208 | 3        |\n",
       "\n"
      ],
      "text/plain": [
       "  Income   Race\n",
       "1 63.66208 1   \n",
       "2 63.66208 2   \n",
       "3 63.66208 3   "
      ]
     },
     "metadata": {},
     "output_type": "display_data"
    }
   ],
   "source": [
    "s1 = data.frame(Income=mean(df$Income),Race=factor(1:3));s1"
   ]
  },
  {
   "cell_type": "code",
   "execution_count": 18,
   "metadata": {},
   "outputs": [
    {
     "data": {
      "text/html": [
       "<dl class=dl-horizontal>\n",
       "\t<dt>1</dt>\n",
       "\t\t<dd>0.256604148777014</dd>\n",
       "\t<dt>2</dt>\n",
       "\t\t<dd>0.711362162262924</dd>\n",
       "\t<dt>3</dt>\n",
       "\t\t<dd>0.329911934307261</dd>\n",
       "</dl>\n"
      ],
      "text/latex": [
       "\\begin{description*}\n",
       "\\item[1] 0.256604148777014\n",
       "\\item[2] 0.711362162262924\n",
       "\\item[3] 0.329911934307261\n",
       "\\end{description*}\n"
      ],
      "text/markdown": [
       "1\n",
       ":   0.2566041487770142\n",
       ":   0.7113621622629243\n",
       ":   0.329911934307261\n",
       "\n"
      ],
      "text/plain": [
       "        1         2         3 \n",
       "0.2566041 0.7113622 0.3299119 "
      ]
     },
     "metadata": {},
     "output_type": "display_data"
    }
   ],
   "source": [
    "predict(poisson_model_1,s1,type=\"response\",se.fit=TRUE)$fit"
   ]
  }
 ],
 "metadata": {
  "kernelspec": {
   "display_name": "R",
   "language": "R",
   "name": "ir"
  },
  "language_info": {
   "codemirror_mode": "r",
   "file_extension": ".r",
   "mimetype": "text/x-r-source",
   "name": "R",
   "pygments_lexer": "r",
   "version": "3.6.1"
  }
 },
 "nbformat": 4,
 "nbformat_minor": 2
}
