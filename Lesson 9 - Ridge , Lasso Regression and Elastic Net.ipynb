{
 "cells": [
  {
   "cell_type": "code",
   "execution_count": 1,
   "metadata": {},
   "outputs": [
    {
     "name": "stderr",
     "output_type": "stream",
     "text": [
      "Loading required package: Matrix\n",
      "Loading required package: foreach\n",
      "Loaded glmnet 2.0-16\n",
      "\n"
     ]
    }
   ],
   "source": [
    "library(glmnet)"
   ]
  },
  {
   "cell_type": "code",
   "execution_count": 2,
   "metadata": {},
   "outputs": [],
   "source": [
    "set.seed(43)"
   ]
  },
  {
   "cell_type": "code",
   "execution_count": 3,
   "metadata": {},
   "outputs": [],
   "source": [
    "n <- 1000 # Number of observations\n",
    "p <- 5000 # Number of predictors included in model\n",
    "real_p <- 15 # Number of true predictors"
   ]
  },
  {
   "cell_type": "code",
   "execution_count": 4,
   "metadata": {},
   "outputs": [],
   "source": [
    "x = matrix(rnorm(n*p),nrow=n,ncol=p)"
   ]
  },
  {
   "cell_type": "code",
   "execution_count": 7,
   "metadata": {},
   "outputs": [],
   "source": [
    "y <- apply(x[,1:real_p],1,sum)+rnorm(n)"
   ]
  },
  {
   "cell_type": "code",
   "execution_count": 8,
   "metadata": {},
   "outputs": [],
   "source": [
    "train_rows <- sample(1:n,0.66*n)"
   ]
  },
  {
   "cell_type": "code",
   "execution_count": 12,
   "metadata": {},
   "outputs": [],
   "source": [
    "X.train <- x[train_rows,]"
   ]
  },
  {
   "cell_type": "code",
   "execution_count": 13,
   "metadata": {},
   "outputs": [],
   "source": [
    "X.test <- x[-train_rows,]"
   ]
  },
  {
   "cell_type": "code",
   "execution_count": 14,
   "metadata": {},
   "outputs": [],
   "source": [
    "y.train <- y[train_rows]"
   ]
  },
  {
   "cell_type": "code",
   "execution_count": 15,
   "metadata": {},
   "outputs": [],
   "source": [
    "y_test <- y[-train_rows]"
   ]
  },
  {
   "cell_type": "code",
   "execution_count": null,
   "metadata": {},
   "outputs": [],
   "source": [
    "## s = is the \"size\" of the penalty that we want to use, and thus, corresponds to lambda. "
   ]
  },
  {
   "cell_type": "markdown",
   "metadata": {},
   "source": [
    "# RIDGE REGRESSION"
   ]
  },
  {
   "cell_type": "code",
   "execution_count": 16,
   "metadata": {},
   "outputs": [],
   "source": [
    "alpha0.fit <- cv.glmnet(X.train,y.train,type.measure=\"mse\",alpha=0,family=\"gaussian\")"
   ]
  },
  {
   "cell_type": "code",
   "execution_count": 17,
   "metadata": {},
   "outputs": [],
   "source": [
    "alpha0.predicted <- predict(alpha0.fit , s=alpha0.fit$lambda.1se,newx=X.test)"
   ]
  },
  {
   "cell_type": "code",
   "execution_count": 18,
   "metadata": {},
   "outputs": [
    {
     "data": {
      "text/html": [
       "15.1614109681215"
      ],
      "text/latex": [
       "15.1614109681215"
      ],
      "text/markdown": [
       "15.1614109681215"
      ],
      "text/plain": [
       "[1] 15.16141"
      ]
     },
     "metadata": {},
     "output_type": "display_data"
    }
   ],
   "source": [
    "mean((y_test - alpha0.predicted)^2)"
   ]
  },
  {
   "cell_type": "markdown",
   "metadata": {},
   "source": [
    "# LASSO REGRESSION"
   ]
  },
  {
   "cell_type": "code",
   "execution_count": 19,
   "metadata": {},
   "outputs": [],
   "source": [
    "alpha1.fit <- cv.glmnet(X.train,y.train,type.measure=\"mse\",alpha=1,family=\"gaussian\")"
   ]
  },
  {
   "cell_type": "code",
   "execution_count": 20,
   "metadata": {},
   "outputs": [],
   "source": [
    "alpha1.predicted <- predict(alpha1.fit , s=alpha1.fit$lambda.1se,newx=X.test)"
   ]
  },
  {
   "cell_type": "code",
   "execution_count": 21,
   "metadata": {},
   "outputs": [
    {
     "data": {
      "text/html": [
       "1.37531174198382"
      ],
      "text/latex": [
       "1.37531174198382"
      ],
      "text/markdown": [
       "1.37531174198382"
      ],
      "text/plain": [
       "[1] 1.375312"
      ]
     },
     "metadata": {},
     "output_type": "display_data"
    }
   ],
   "source": [
    "mean((y_test - alpha1.predicted)^2)"
   ]
  },
  {
   "cell_type": "markdown",
   "metadata": {},
   "source": [
    "# ELASTIC NET"
   ]
  },
  {
   "cell_type": "code",
   "execution_count": 22,
   "metadata": {},
   "outputs": [],
   "source": [
    "alpha0.5.fit <- cv.glmnet(X.train,y.train,type.measure=\"mse\",alpha=0.5,family=\"gaussian\")"
   ]
  },
  {
   "cell_type": "code",
   "execution_count": 23,
   "metadata": {},
   "outputs": [],
   "source": [
    "alpha0.5.predicted <- predict(alpha0.5.fit , s=alpha1.fit$lambda.1se,newx=X.test)"
   ]
  },
  {
   "cell_type": "code",
   "execution_count": 24,
   "metadata": {},
   "outputs": [
    {
     "data": {
      "text/html": [
       "1.38070523481715"
      ],
      "text/latex": [
       "1.38070523481715"
      ],
      "text/markdown": [
       "1.38070523481715"
      ],
      "text/plain": [
       "[1] 1.380705"
      ]
     },
     "metadata": {},
     "output_type": "display_data"
    }
   ],
   "source": [
    "mean((y_test - alpha0.5.predicted)^2)"
   ]
  },
  {
   "cell_type": "code",
   "execution_count": 36,
   "metadata": {},
   "outputs": [],
   "source": [
    "##the best thing to do is just try a bunch of different\n",
    "## values for alpha rather than guess which one will be best.\n",
    "## The following loop uses 10-fold Cross Validation to determine the\n",
    "## optimal value for lambda for alpha = 0, 0.1, ... , 0.9, 1.0\n",
    "## using the Training dataset."
   ]
  },
  {
   "cell_type": "code",
   "execution_count": 25,
   "metadata": {},
   "outputs": [],
   "source": [
    "list.of.fits <- list()"
   ]
  },
  {
   "cell_type": "code",
   "execution_count": 29,
   "metadata": {},
   "outputs": [],
   "source": [
    "for (i in 1:10) {\n",
    "    fit.name <- paste0(\"alpha\",i/10)\n",
    "    \n",
    "    list.of.fits[[fit.name]] <- cv.glmnet(X.train,y.train,type.measure=\"mse\",alpha=i/10,family=\"gaussian\")\n",
    "}"
   ]
  },
  {
   "cell_type": "code",
   "execution_count": 31,
   "metadata": {},
   "outputs": [],
   "source": [
    "result <- data.frame()"
   ]
  },
  {
   "cell_type": "code",
   "execution_count": 33,
   "metadata": {},
   "outputs": [],
   "source": [
    "for (i in 1:10) {\n",
    "    fit.name <- paste0(\"alpha\",i/10)\n",
    "    \n",
    "    predicted <- predict( list.of.fits[[fit.name]], s=list.of.fits[[fit.name]]$lambda.1se,newx=X.test)\n",
    "    \n",
    "    mse <- mean((y_test-predicted)^2)\n",
    "    \n",
    "    temp <- data.frame(alpha=i/10,mse=mse,fit.name=fit.name)\n",
    "    \n",
    "    result <- rbind(result,temp)\n",
    "    \n",
    "}"
   ]
  },
  {
   "cell_type": "code",
   "execution_count": 34,
   "metadata": {},
   "outputs": [
    {
     "data": {
      "text/html": [
       "<table>\n",
       "<thead><tr><th scope=col>alpha</th><th scope=col>mse</th><th scope=col>fit.name</th></tr></thead>\n",
       "<tbody>\n",
       "\t<tr><td>0.1     </td><td>2.365872</td><td>alpha0.1</td></tr>\n",
       "\t<tr><td>0.2     </td><td>1.681342</td><td>alpha0.2</td></tr>\n",
       "\t<tr><td>0.3     </td><td>1.516342</td><td>alpha0.3</td></tr>\n",
       "\t<tr><td>0.4     </td><td>1.488059</td><td>alpha0.4</td></tr>\n",
       "\t<tr><td>0.5     </td><td>1.472989</td><td>alpha0.5</td></tr>\n",
       "\t<tr><td>0.6     </td><td>1.421112</td><td>alpha0.6</td></tr>\n",
       "\t<tr><td>0.7     </td><td>1.385212</td><td>alpha0.7</td></tr>\n",
       "\t<tr><td>0.8     </td><td>1.398067</td><td>alpha0.8</td></tr>\n",
       "\t<tr><td>0.9     </td><td>1.358121</td><td>alpha0.9</td></tr>\n",
       "\t<tr><td>1.0     </td><td>1.411247</td><td>alpha1  </td></tr>\n",
       "</tbody>\n",
       "</table>\n"
      ],
      "text/latex": [
       "\\begin{tabular}{r|lll}\n",
       " alpha & mse & fit.name\\\\\n",
       "\\hline\n",
       "\t 0.1      & 2.365872 & alpha0.1\\\\\n",
       "\t 0.2      & 1.681342 & alpha0.2\\\\\n",
       "\t 0.3      & 1.516342 & alpha0.3\\\\\n",
       "\t 0.4      & 1.488059 & alpha0.4\\\\\n",
       "\t 0.5      & 1.472989 & alpha0.5\\\\\n",
       "\t 0.6      & 1.421112 & alpha0.6\\\\\n",
       "\t 0.7      & 1.385212 & alpha0.7\\\\\n",
       "\t 0.8      & 1.398067 & alpha0.8\\\\\n",
       "\t 0.9      & 1.358121 & alpha0.9\\\\\n",
       "\t 1.0      & 1.411247 & alpha1  \\\\\n",
       "\\end{tabular}\n"
      ],
      "text/markdown": [
       "\n",
       "| alpha | mse | fit.name |\n",
       "|---|---|---|\n",
       "| 0.1      | 2.365872 | alpha0.1 |\n",
       "| 0.2      | 1.681342 | alpha0.2 |\n",
       "| 0.3      | 1.516342 | alpha0.3 |\n",
       "| 0.4      | 1.488059 | alpha0.4 |\n",
       "| 0.5      | 1.472989 | alpha0.5 |\n",
       "| 0.6      | 1.421112 | alpha0.6 |\n",
       "| 0.7      | 1.385212 | alpha0.7 |\n",
       "| 0.8      | 1.398067 | alpha0.8 |\n",
       "| 0.9      | 1.358121 | alpha0.9 |\n",
       "| 1.0      | 1.411247 | alpha1   |\n",
       "\n"
      ],
      "text/plain": [
       "   alpha mse      fit.name\n",
       "1  0.1   2.365872 alpha0.1\n",
       "2  0.2   1.681342 alpha0.2\n",
       "3  0.3   1.516342 alpha0.3\n",
       "4  0.4   1.488059 alpha0.4\n",
       "5  0.5   1.472989 alpha0.5\n",
       "6  0.6   1.421112 alpha0.6\n",
       "7  0.7   1.385212 alpha0.7\n",
       "8  0.8   1.398067 alpha0.8\n",
       "9  0.9   1.358121 alpha0.9\n",
       "10 1.0   1.411247 alpha1  "
      ]
     },
     "metadata": {},
     "output_type": "display_data"
    }
   ],
   "source": [
    "result"
   ]
  },
  {
   "cell_type": "code",
   "execution_count": null,
   "metadata": {},
   "outputs": [],
   "source": []
  }
 ],
 "metadata": {
  "kernelspec": {
   "display_name": "R",
   "language": "R",
   "name": "ir"
  },
  "language_info": {
   "codemirror_mode": "r",
   "file_extension": ".r",
   "mimetype": "text/x-r-source",
   "name": "R",
   "pygments_lexer": "r",
   "version": "3.6.1"
  }
 },
 "nbformat": 4,
 "nbformat_minor": 2
}
