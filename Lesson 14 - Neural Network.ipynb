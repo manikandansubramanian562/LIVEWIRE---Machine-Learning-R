{
 "cells": [
  {
   "cell_type": "markdown",
   "metadata": {},
   "source": [
    "# Preprocess Data"
   ]
  },
  {
   "cell_type": "code",
   "execution_count": 1,
   "metadata": {},
   "outputs": [],
   "source": [
    "df <- read.csv(\"dividendinfo.csv\")"
   ]
  },
  {
   "cell_type": "code",
   "execution_count": 2,
   "metadata": {},
   "outputs": [
    {
     "data": {
      "text/html": [
       "<table>\n",
       "<thead><tr><th scope=col>dividend</th><th scope=col>fcfps</th><th scope=col>earnings_growth</th><th scope=col>de</th><th scope=col>mcap</th><th scope=col>current_ratio</th></tr></thead>\n",
       "<tbody>\n",
       "\t<tr><td>0        </td><td>2.75     </td><td>-19.25   </td><td>1.11     </td><td>545      </td><td>0.9240557</td></tr>\n",
       "\t<tr><td>1        </td><td>4.96     </td><td>  0.83   </td><td>1.09     </td><td>630      </td><td>1.4685722</td></tr>\n",
       "\t<tr><td>1        </td><td>2.78     </td><td>  1.09   </td><td>0.19     </td><td>562      </td><td>1.9758751</td></tr>\n",
       "\t<tr><td>0        </td><td>0.43     </td><td> 12.97   </td><td>1.70     </td><td>388      </td><td>1.9419977</td></tr>\n",
       "\t<tr><td>1        </td><td>2.94     </td><td>  2.44   </td><td>1.83     </td><td>684      </td><td>2.4874670</td></tr>\n",
       "\t<tr><td>1        </td><td>3.90     </td><td> -6.29   </td><td>0.46     </td><td>621      </td><td>1.7832525</td></tr>\n",
       "</tbody>\n",
       "</table>\n"
      ],
      "text/latex": [
       "\\begin{tabular}{r|llllll}\n",
       " dividend & fcfps & earnings\\_growth & de & mcap & current\\_ratio\\\\\n",
       "\\hline\n",
       "\t 0         & 2.75      & -19.25    & 1.11      & 545       & 0.9240557\\\\\n",
       "\t 1         & 4.96      &   0.83    & 1.09      & 630       & 1.4685722\\\\\n",
       "\t 1         & 2.78      &   1.09    & 0.19      & 562       & 1.9758751\\\\\n",
       "\t 0         & 0.43      &  12.97    & 1.70      & 388       & 1.9419977\\\\\n",
       "\t 1         & 2.94      &   2.44    & 1.83      & 684       & 2.4874670\\\\\n",
       "\t 1         & 3.90      &  -6.29    & 0.46      & 621       & 1.7832525\\\\\n",
       "\\end{tabular}\n"
      ],
      "text/markdown": [
       "\n",
       "| dividend | fcfps | earnings_growth | de | mcap | current_ratio |\n",
       "|---|---|---|---|---|---|\n",
       "| 0         | 2.75      | -19.25    | 1.11      | 545       | 0.9240557 |\n",
       "| 1         | 4.96      |   0.83    | 1.09      | 630       | 1.4685722 |\n",
       "| 1         | 2.78      |   1.09    | 0.19      | 562       | 1.9758751 |\n",
       "| 0         | 0.43      |  12.97    | 1.70      | 388       | 1.9419977 |\n",
       "| 1         | 2.94      |   2.44    | 1.83      | 684       | 2.4874670 |\n",
       "| 1         | 3.90      |  -6.29    | 0.46      | 621       | 1.7832525 |\n",
       "\n"
      ],
      "text/plain": [
       "  dividend fcfps earnings_growth de   mcap current_ratio\n",
       "1 0        2.75  -19.25          1.11 545  0.9240557    \n",
       "2 1        4.96    0.83          1.09 630  1.4685722    \n",
       "3 1        2.78    1.09          0.19 562  1.9758751    \n",
       "4 0        0.43   12.97          1.70 388  1.9419977    \n",
       "5 1        2.94    2.44          1.83 684  2.4874670    \n",
       "6 1        3.90   -6.29          0.46 621  1.7832525    "
      ]
     },
     "metadata": {},
     "output_type": "display_data"
    }
   ],
   "source": [
    "head(df)"
   ]
  },
  {
   "cell_type": "markdown",
   "metadata": {},
   "source": [
    "# Normalization"
   ]
  },
  {
   "cell_type": "code",
   "execution_count": 3,
   "metadata": {},
   "outputs": [],
   "source": [
    "normalize <- function(x) {\n",
    "    return ((x-min(x))/(max(x)-min(x)))\n",
    "}"
   ]
  },
  {
   "cell_type": "code",
   "execution_count": 4,
   "metadata": {},
   "outputs": [],
   "source": [
    "minmaxdf <- as.data.frame(lapply(df,normalize))"
   ]
  },
  {
   "cell_type": "code",
   "execution_count": 5,
   "metadata": {},
   "outputs": [
    {
     "data": {
      "text/html": [
       "<table>\n",
       "<thead><tr><th scope=col>dividend</th><th scope=col>fcfps</th><th scope=col>earnings_growth</th><th scope=col>de</th><th scope=col>mcap</th><th scope=col>current_ratio</th></tr></thead>\n",
       "<tbody>\n",
       "\t<tr><td>0         </td><td>0.54361055</td><td>0.0000000 </td><td>0.26717557</td><td>0.6350575 </td><td>0.3177037 </td></tr>\n",
       "\t<tr><td>1         </td><td>0.99188641</td><td>0.3383319 </td><td>0.26208651</td><td>0.7571839 </td><td>0.5052078 </td></tr>\n",
       "\t<tr><td>1         </td><td>0.54969574</td><td>0.3427127 </td><td>0.03307888</td><td>0.6594828 </td><td>0.6798973 </td></tr>\n",
       "\t<tr><td>0         </td><td>0.07302231</td><td>0.5428812 </td><td>0.41730280</td><td>0.4094828 </td><td>0.6682316 </td></tr>\n",
       "\t<tr><td>1         </td><td>0.58215010</td><td>0.3654591 </td><td>0.45038168</td><td>0.8347701 </td><td>0.8560637 </td></tr>\n",
       "\t<tr><td>1         </td><td>0.77687627</td><td>0.2183656 </td><td>0.10178117</td><td>0.7442529 </td><td>0.6135678 </td></tr>\n",
       "</tbody>\n",
       "</table>\n"
      ],
      "text/latex": [
       "\\begin{tabular}{r|llllll}\n",
       " dividend & fcfps & earnings\\_growth & de & mcap & current\\_ratio\\\\\n",
       "\\hline\n",
       "\t 0          & 0.54361055 & 0.0000000  & 0.26717557 & 0.6350575  & 0.3177037 \\\\\n",
       "\t 1          & 0.99188641 & 0.3383319  & 0.26208651 & 0.7571839  & 0.5052078 \\\\\n",
       "\t 1          & 0.54969574 & 0.3427127  & 0.03307888 & 0.6594828  & 0.6798973 \\\\\n",
       "\t 0          & 0.07302231 & 0.5428812  & 0.41730280 & 0.4094828  & 0.6682316 \\\\\n",
       "\t 1          & 0.58215010 & 0.3654591  & 0.45038168 & 0.8347701  & 0.8560637 \\\\\n",
       "\t 1          & 0.77687627 & 0.2183656  & 0.10178117 & 0.7442529  & 0.6135678 \\\\\n",
       "\\end{tabular}\n"
      ],
      "text/markdown": [
       "\n",
       "| dividend | fcfps | earnings_growth | de | mcap | current_ratio |\n",
       "|---|---|---|---|---|---|\n",
       "| 0          | 0.54361055 | 0.0000000  | 0.26717557 | 0.6350575  | 0.3177037  |\n",
       "| 1          | 0.99188641 | 0.3383319  | 0.26208651 | 0.7571839  | 0.5052078  |\n",
       "| 1          | 0.54969574 | 0.3427127  | 0.03307888 | 0.6594828  | 0.6798973  |\n",
       "| 0          | 0.07302231 | 0.5428812  | 0.41730280 | 0.4094828  | 0.6682316  |\n",
       "| 1          | 0.58215010 | 0.3654591  | 0.45038168 | 0.8347701  | 0.8560637  |\n",
       "| 1          | 0.77687627 | 0.2183656  | 0.10178117 | 0.7442529  | 0.6135678  |\n",
       "\n"
      ],
      "text/plain": [
       "  dividend fcfps      earnings_growth de         mcap      current_ratio\n",
       "1 0        0.54361055 0.0000000       0.26717557 0.6350575 0.3177037    \n",
       "2 1        0.99188641 0.3383319       0.26208651 0.7571839 0.5052078    \n",
       "3 1        0.54969574 0.3427127       0.03307888 0.6594828 0.6798973    \n",
       "4 0        0.07302231 0.5428812       0.41730280 0.4094828 0.6682316    \n",
       "5 1        0.58215010 0.3654591       0.45038168 0.8347701 0.8560637    \n",
       "6 1        0.77687627 0.2183656       0.10178117 0.7442529 0.6135678    "
      ]
     },
     "metadata": {},
     "output_type": "display_data"
    }
   ],
   "source": [
    "head(minmaxdf)"
   ]
  },
  {
   "cell_type": "markdown",
   "metadata": {},
   "source": [
    "# train & test split"
   ]
  },
  {
   "cell_type": "code",
   "execution_count": 6,
   "metadata": {},
   "outputs": [],
   "source": [
    "train_df <- minmaxdf[1:160,]\n",
    "test_df <- minmaxdf[161:200,]"
   ]
  },
  {
   "cell_type": "markdown",
   "metadata": {},
   "source": [
    "# Building Model - Training set"
   ]
  },
  {
   "cell_type": "code",
   "execution_count": 9,
   "metadata": {},
   "outputs": [],
   "source": [
    "library(neuralnet)"
   ]
  },
  {
   "cell_type": "code",
   "execution_count": 13,
   "metadata": {},
   "outputs": [],
   "source": [
    "nn <- neuralnet(dividend ~ fcfps + earnings_growth + de + mcap + current_ratio,data=train_df,hidden=c(2,1),linear.output=FALSE, threshold=0.01)"
   ]
  },
  {
   "cell_type": "code",
   "execution_count": 17,
   "metadata": {},
   "outputs": [
    {
     "data": {
      "text/html": [
       "<table>\n",
       "<tbody>\n",
       "\t<tr><th scope=row>error</th><td> 1.008319e+00</td></tr>\n",
       "\t<tr><th scope=row>reached.threshold</th><td> 6.904156e-03</td></tr>\n",
       "\t<tr><th scope=row>steps</th><td> 1.367000e+03</td></tr>\n",
       "\t<tr><th scope=row>Intercept.to.1layhid1</th><td>-3.331013e+00</td></tr>\n",
       "\t<tr><th scope=row>fcfps.to.1layhid1</th><td>-5.286510e+00</td></tr>\n",
       "\t<tr><th scope=row>earnings_growth.to.1layhid1</th><td>-6.962974e-01</td></tr>\n",
       "\t<tr><th scope=row>de.to.1layhid1</th><td> 1.221447e+01</td></tr>\n",
       "\t<tr><th scope=row>mcap.to.1layhid1</th><td> 4.034290e+00</td></tr>\n",
       "\t<tr><th scope=row>current_ratio.to.1layhid1</th><td>-4.629061e+00</td></tr>\n",
       "\t<tr><th scope=row>Intercept.to.1layhid2</th><td> 3.699422e+00</td></tr>\n",
       "\t<tr><th scope=row>fcfps.to.1layhid2</th><td>-1.969769e+00</td></tr>\n",
       "\t<tr><th scope=row>earnings_growth.to.1layhid2</th><td>-1.209385e+00</td></tr>\n",
       "\t<tr><th scope=row>de.to.1layhid2</th><td> 2.961651e+00</td></tr>\n",
       "\t<tr><th scope=row>mcap.to.1layhid2</th><td>-3.214383e+00</td></tr>\n",
       "\t<tr><th scope=row>current_ratio.to.1layhid2</th><td>-4.504522e+00</td></tr>\n",
       "\t<tr><th scope=row>Intercept.to.2layhid1</th><td> 1.616417e+00</td></tr>\n",
       "\t<tr><th scope=row>1layhid1.to.2layhid1</th><td> 2.993500e+00</td></tr>\n",
       "\t<tr><th scope=row>1layhid2.to.2layhid1</th><td>-8.214930e+00</td></tr>\n",
       "\t<tr><th scope=row>Intercept.to.dividend</th><td>-2.564274e+01</td></tr>\n",
       "\t<tr><th scope=row>2layhid1.to.dividend</th><td> 7.385352e+01</td></tr>\n",
       "</tbody>\n",
       "</table>\n"
      ],
      "text/latex": [
       "\\begin{tabular}{r|l}\n",
       "\terror &  1.008319e+00\\\\\n",
       "\treached.threshold &  6.904156e-03\\\\\n",
       "\tsteps &  1.367000e+03\\\\\n",
       "\tIntercept.to.1layhid1 & -3.331013e+00\\\\\n",
       "\tfcfps.to.1layhid1 & -5.286510e+00\\\\\n",
       "\tearnings\\_growth.to.1layhid1 & -6.962974e-01\\\\\n",
       "\tde.to.1layhid1 &  1.221447e+01\\\\\n",
       "\tmcap.to.1layhid1 &  4.034290e+00\\\\\n",
       "\tcurrent\\_ratio.to.1layhid1 & -4.629061e+00\\\\\n",
       "\tIntercept.to.1layhid2 &  3.699422e+00\\\\\n",
       "\tfcfps.to.1layhid2 & -1.969769e+00\\\\\n",
       "\tearnings\\_growth.to.1layhid2 & -1.209385e+00\\\\\n",
       "\tde.to.1layhid2 &  2.961651e+00\\\\\n",
       "\tmcap.to.1layhid2 & -3.214383e+00\\\\\n",
       "\tcurrent\\_ratio.to.1layhid2 & -4.504522e+00\\\\\n",
       "\tIntercept.to.2layhid1 &  1.616417e+00\\\\\n",
       "\t1layhid1.to.2layhid1 &  2.993500e+00\\\\\n",
       "\t1layhid2.to.2layhid1 & -8.214930e+00\\\\\n",
       "\tIntercept.to.dividend & -2.564274e+01\\\\\n",
       "\t2layhid1.to.dividend &  7.385352e+01\\\\\n",
       "\\end{tabular}\n"
      ],
      "text/markdown": [
       "\n",
       "| error |  1.008319e+00 |\n",
       "| reached.threshold |  6.904156e-03 |\n",
       "| steps |  1.367000e+03 |\n",
       "| Intercept.to.1layhid1 | -3.331013e+00 |\n",
       "| fcfps.to.1layhid1 | -5.286510e+00 |\n",
       "| earnings_growth.to.1layhid1 | -6.962974e-01 |\n",
       "| de.to.1layhid1 |  1.221447e+01 |\n",
       "| mcap.to.1layhid1 |  4.034290e+00 |\n",
       "| current_ratio.to.1layhid1 | -4.629061e+00 |\n",
       "| Intercept.to.1layhid2 |  3.699422e+00 |\n",
       "| fcfps.to.1layhid2 | -1.969769e+00 |\n",
       "| earnings_growth.to.1layhid2 | -1.209385e+00 |\n",
       "| de.to.1layhid2 |  2.961651e+00 |\n",
       "| mcap.to.1layhid2 | -3.214383e+00 |\n",
       "| current_ratio.to.1layhid2 | -4.504522e+00 |\n",
       "| Intercept.to.2layhid1 |  1.616417e+00 |\n",
       "| 1layhid1.to.2layhid1 |  2.993500e+00 |\n",
       "| 1layhid2.to.2layhid1 | -8.214930e+00 |\n",
       "| Intercept.to.dividend | -2.564274e+01 |\n",
       "| 2layhid1.to.dividend |  7.385352e+01 |\n",
       "\n"
      ],
      "text/plain": [
       "                            [,1]         \n",
       "error                        1.008319e+00\n",
       "reached.threshold            6.904156e-03\n",
       "steps                        1.367000e+03\n",
       "Intercept.to.1layhid1       -3.331013e+00\n",
       "fcfps.to.1layhid1           -5.286510e+00\n",
       "earnings_growth.to.1layhid1 -6.962974e-01\n",
       "de.to.1layhid1               1.221447e+01\n",
       "mcap.to.1layhid1             4.034290e+00\n",
       "current_ratio.to.1layhid1   -4.629061e+00\n",
       "Intercept.to.1layhid2        3.699422e+00\n",
       "fcfps.to.1layhid2           -1.969769e+00\n",
       "earnings_growth.to.1layhid2 -1.209385e+00\n",
       "de.to.1layhid2               2.961651e+00\n",
       "mcap.to.1layhid2            -3.214383e+00\n",
       "current_ratio.to.1layhid2   -4.504522e+00\n",
       "Intercept.to.2layhid1        1.616417e+00\n",
       "1layhid1.to.2layhid1         2.993500e+00\n",
       "1layhid2.to.2layhid1        -8.214930e+00\n",
       "Intercept.to.dividend       -2.564274e+01\n",
       "2layhid1.to.dividend         7.385352e+01"
      ]
     },
     "metadata": {},
     "output_type": "display_data"
    }
   ],
   "source": [
    "nn$result.matrix"
   ]
  },
  {
   "cell_type": "markdown",
   "metadata": {},
   "source": [
    "# Test set"
   ]
  },
  {
   "cell_type": "code",
   "execution_count": 23,
   "metadata": {},
   "outputs": [],
   "source": [
    "temp_test_set <- subset(test_df, select = c(\"fcfps\",\"earnings_growth\", \"de\", \"mcap\", \"current_ratio\"))"
   ]
  },
  {
   "cell_type": "code",
   "execution_count": 24,
   "metadata": {},
   "outputs": [],
   "source": [
    "nn_test <- compute(nn,temp_test_set)"
   ]
  },
  {
   "cell_type": "code",
   "execution_count": 28,
   "metadata": {},
   "outputs": [],
   "source": [
    "results <- data.frame(actual = test_df$dividend, prediction = nn_test$net.result)"
   ]
  },
  {
   "cell_type": "code",
   "execution_count": 29,
   "metadata": {},
   "outputs": [
    {
     "data": {
      "text/html": [
       "<table>\n",
       "<thead><tr><th></th><th scope=col>actual</th><th scope=col>prediction</th></tr></thead>\n",
       "<tbody>\n",
       "\t<tr><th scope=row>161</th><td>0           </td><td>3.094185e-11</td></tr>\n",
       "\t<tr><th scope=row>162</th><td>1           </td><td>1.000000e+00</td></tr>\n",
       "\t<tr><th scope=row>163</th><td>0           </td><td>6.103907e-10</td></tr>\n",
       "\t<tr><th scope=row>164</th><td>0           </td><td>1.041836e-11</td></tr>\n",
       "\t<tr><th scope=row>165</th><td>0           </td><td>6.046956e-11</td></tr>\n",
       "\t<tr><th scope=row>166</th><td>1           </td><td>1.000000e+00</td></tr>\n",
       "\t<tr><th scope=row>167</th><td>1           </td><td>1.000000e+00</td></tr>\n",
       "\t<tr><th scope=row>168</th><td>1           </td><td>1.000000e+00</td></tr>\n",
       "\t<tr><th scope=row>169</th><td>0           </td><td>1.285911e-11</td></tr>\n",
       "\t<tr><th scope=row>170</th><td>1           </td><td>8.957441e-07</td></tr>\n",
       "\t<tr><th scope=row>171</th><td>0           </td><td>9.587796e-11</td></tr>\n",
       "\t<tr><th scope=row>172</th><td>1           </td><td>1.000000e+00</td></tr>\n",
       "\t<tr><th scope=row>173</th><td>1           </td><td>1.000000e+00</td></tr>\n",
       "\t<tr><th scope=row>174</th><td>0           </td><td>3.349726e-10</td></tr>\n",
       "\t<tr><th scope=row>175</th><td>0           </td><td>3.564667e-10</td></tr>\n",
       "\t<tr><th scope=row>176</th><td>0           </td><td>2.621316e-10</td></tr>\n",
       "\t<tr><th scope=row>177</th><td>1           </td><td>2.139864e-07</td></tr>\n",
       "\t<tr><th scope=row>178</th><td>1           </td><td>1.000000e+00</td></tr>\n",
       "\t<tr><th scope=row>179</th><td>1           </td><td>1.000000e+00</td></tr>\n",
       "\t<tr><th scope=row>180</th><td>0           </td><td>1.813904e-11</td></tr>\n",
       "\t<tr><th scope=row>181</th><td>1           </td><td>1.000000e+00</td></tr>\n",
       "\t<tr><th scope=row>182</th><td>1           </td><td>1.000000e+00</td></tr>\n",
       "\t<tr><th scope=row>183</th><td>1           </td><td>1.000000e+00</td></tr>\n",
       "\t<tr><th scope=row>184</th><td>0           </td><td>6.140666e-09</td></tr>\n",
       "\t<tr><th scope=row>185</th><td>1           </td><td>1.000000e+00</td></tr>\n",
       "\t<tr><th scope=row>186</th><td>1           </td><td>1.000000e+00</td></tr>\n",
       "\t<tr><th scope=row>187</th><td>1           </td><td>1.150811e-05</td></tr>\n",
       "\t<tr><th scope=row>188</th><td>0           </td><td>1.437511e-10</td></tr>\n",
       "\t<tr><th scope=row>189</th><td>1           </td><td>9.087468e-03</td></tr>\n",
       "\t<tr><th scope=row>190</th><td>1           </td><td>9.999984e-01</td></tr>\n",
       "\t<tr><th scope=row>191</th><td>0           </td><td>3.016024e-11</td></tr>\n",
       "\t<tr><th scope=row>192</th><td>0           </td><td>1.311432e-10</td></tr>\n",
       "\t<tr><th scope=row>193</th><td>1           </td><td>9.999698e-01</td></tr>\n",
       "\t<tr><th scope=row>194</th><td>1           </td><td>1.000000e+00</td></tr>\n",
       "\t<tr><th scope=row>195</th><td>0           </td><td>2.217185e-11</td></tr>\n",
       "\t<tr><th scope=row>196</th><td>1           </td><td>1.046921e-05</td></tr>\n",
       "\t<tr><th scope=row>197</th><td>1           </td><td>1.000000e+00</td></tr>\n",
       "\t<tr><th scope=row>198</th><td>0           </td><td>1.605681e-10</td></tr>\n",
       "\t<tr><th scope=row>199</th><td>0           </td><td>1.036385e-10</td></tr>\n",
       "\t<tr><th scope=row>200</th><td>1           </td><td>1.000000e+00</td></tr>\n",
       "</tbody>\n",
       "</table>\n"
      ],
      "text/latex": [
       "\\begin{tabular}{r|ll}\n",
       "  & actual & prediction\\\\\n",
       "\\hline\n",
       "\t161 & 0            & 3.094185e-11\\\\\n",
       "\t162 & 1            & 1.000000e+00\\\\\n",
       "\t163 & 0            & 6.103907e-10\\\\\n",
       "\t164 & 0            & 1.041836e-11\\\\\n",
       "\t165 & 0            & 6.046956e-11\\\\\n",
       "\t166 & 1            & 1.000000e+00\\\\\n",
       "\t167 & 1            & 1.000000e+00\\\\\n",
       "\t168 & 1            & 1.000000e+00\\\\\n",
       "\t169 & 0            & 1.285911e-11\\\\\n",
       "\t170 & 1            & 8.957441e-07\\\\\n",
       "\t171 & 0            & 9.587796e-11\\\\\n",
       "\t172 & 1            & 1.000000e+00\\\\\n",
       "\t173 & 1            & 1.000000e+00\\\\\n",
       "\t174 & 0            & 3.349726e-10\\\\\n",
       "\t175 & 0            & 3.564667e-10\\\\\n",
       "\t176 & 0            & 2.621316e-10\\\\\n",
       "\t177 & 1            & 2.139864e-07\\\\\n",
       "\t178 & 1            & 1.000000e+00\\\\\n",
       "\t179 & 1            & 1.000000e+00\\\\\n",
       "\t180 & 0            & 1.813904e-11\\\\\n",
       "\t181 & 1            & 1.000000e+00\\\\\n",
       "\t182 & 1            & 1.000000e+00\\\\\n",
       "\t183 & 1            & 1.000000e+00\\\\\n",
       "\t184 & 0            & 6.140666e-09\\\\\n",
       "\t185 & 1            & 1.000000e+00\\\\\n",
       "\t186 & 1            & 1.000000e+00\\\\\n",
       "\t187 & 1            & 1.150811e-05\\\\\n",
       "\t188 & 0            & 1.437511e-10\\\\\n",
       "\t189 & 1            & 9.087468e-03\\\\\n",
       "\t190 & 1            & 9.999984e-01\\\\\n",
       "\t191 & 0            & 3.016024e-11\\\\\n",
       "\t192 & 0            & 1.311432e-10\\\\\n",
       "\t193 & 1            & 9.999698e-01\\\\\n",
       "\t194 & 1            & 1.000000e+00\\\\\n",
       "\t195 & 0            & 2.217185e-11\\\\\n",
       "\t196 & 1            & 1.046921e-05\\\\\n",
       "\t197 & 1            & 1.000000e+00\\\\\n",
       "\t198 & 0            & 1.605681e-10\\\\\n",
       "\t199 & 0            & 1.036385e-10\\\\\n",
       "\t200 & 1            & 1.000000e+00\\\\\n",
       "\\end{tabular}\n"
      ],
      "text/markdown": [
       "\n",
       "| <!--/--> | actual | prediction |\n",
       "|---|---|---|\n",
       "| 161 | 0            | 3.094185e-11 |\n",
       "| 162 | 1            | 1.000000e+00 |\n",
       "| 163 | 0            | 6.103907e-10 |\n",
       "| 164 | 0            | 1.041836e-11 |\n",
       "| 165 | 0            | 6.046956e-11 |\n",
       "| 166 | 1            | 1.000000e+00 |\n",
       "| 167 | 1            | 1.000000e+00 |\n",
       "| 168 | 1            | 1.000000e+00 |\n",
       "| 169 | 0            | 1.285911e-11 |\n",
       "| 170 | 1            | 8.957441e-07 |\n",
       "| 171 | 0            | 9.587796e-11 |\n",
       "| 172 | 1            | 1.000000e+00 |\n",
       "| 173 | 1            | 1.000000e+00 |\n",
       "| 174 | 0            | 3.349726e-10 |\n",
       "| 175 | 0            | 3.564667e-10 |\n",
       "| 176 | 0            | 2.621316e-10 |\n",
       "| 177 | 1            | 2.139864e-07 |\n",
       "| 178 | 1            | 1.000000e+00 |\n",
       "| 179 | 1            | 1.000000e+00 |\n",
       "| 180 | 0            | 1.813904e-11 |\n",
       "| 181 | 1            | 1.000000e+00 |\n",
       "| 182 | 1            | 1.000000e+00 |\n",
       "| 183 | 1            | 1.000000e+00 |\n",
       "| 184 | 0            | 6.140666e-09 |\n",
       "| 185 | 1            | 1.000000e+00 |\n",
       "| 186 | 1            | 1.000000e+00 |\n",
       "| 187 | 1            | 1.150811e-05 |\n",
       "| 188 | 0            | 1.437511e-10 |\n",
       "| 189 | 1            | 9.087468e-03 |\n",
       "| 190 | 1            | 9.999984e-01 |\n",
       "| 191 | 0            | 3.016024e-11 |\n",
       "| 192 | 0            | 1.311432e-10 |\n",
       "| 193 | 1            | 9.999698e-01 |\n",
       "| 194 | 1            | 1.000000e+00 |\n",
       "| 195 | 0            | 2.217185e-11 |\n",
       "| 196 | 1            | 1.046921e-05 |\n",
       "| 197 | 1            | 1.000000e+00 |\n",
       "| 198 | 0            | 1.605681e-10 |\n",
       "| 199 | 0            | 1.036385e-10 |\n",
       "| 200 | 1            | 1.000000e+00 |\n",
       "\n"
      ],
      "text/plain": [
       "    actual prediction  \n",
       "161 0      3.094185e-11\n",
       "162 1      1.000000e+00\n",
       "163 0      6.103907e-10\n",
       "164 0      1.041836e-11\n",
       "165 0      6.046956e-11\n",
       "166 1      1.000000e+00\n",
       "167 1      1.000000e+00\n",
       "168 1      1.000000e+00\n",
       "169 0      1.285911e-11\n",
       "170 1      8.957441e-07\n",
       "171 0      9.587796e-11\n",
       "172 1      1.000000e+00\n",
       "173 1      1.000000e+00\n",
       "174 0      3.349726e-10\n",
       "175 0      3.564667e-10\n",
       "176 0      2.621316e-10\n",
       "177 1      2.139864e-07\n",
       "178 1      1.000000e+00\n",
       "179 1      1.000000e+00\n",
       "180 0      1.813904e-11\n",
       "181 1      1.000000e+00\n",
       "182 1      1.000000e+00\n",
       "183 1      1.000000e+00\n",
       "184 0      6.140666e-09\n",
       "185 1      1.000000e+00\n",
       "186 1      1.000000e+00\n",
       "187 1      1.150811e-05\n",
       "188 0      1.437511e-10\n",
       "189 1      9.087468e-03\n",
       "190 1      9.999984e-01\n",
       "191 0      3.016024e-11\n",
       "192 0      1.311432e-10\n",
       "193 1      9.999698e-01\n",
       "194 1      1.000000e+00\n",
       "195 0      2.217185e-11\n",
       "196 1      1.046921e-05\n",
       "197 1      1.000000e+00\n",
       "198 0      1.605681e-10\n",
       "199 0      1.036385e-10\n",
       "200 1      1.000000e+00"
      ]
     },
     "metadata": {},
     "output_type": "display_data"
    }
   ],
   "source": [
    "results"
   ]
  },
  {
   "cell_type": "markdown",
   "metadata": {},
   "source": [
    "# Confusion Matrix"
   ]
  },
  {
   "cell_type": "code",
   "execution_count": 30,
   "metadata": {},
   "outputs": [
    {
     "data": {
      "text/plain": [
       "      prediction\n",
       "actual  0  1\n",
       "     0 17  0\n",
       "     1  5 18"
      ]
     },
     "metadata": {},
     "output_type": "display_data"
    }
   ],
   "source": [
    "roundedresults<-sapply(results,round,digits=0)\n",
    "roundedresultsdf=data.frame(roundedresults)\n",
    "attach(roundedresultsdf)\n",
    "table(actual,prediction)"
   ]
  },
  {
   "cell_type": "markdown",
   "metadata": {},
   "source": [
    "Ultimately, we yield an 87.5% (35/40) accuracy rate in determining whether a stock pays a dividend or not."
   ]
  }
 ],
 "metadata": {
  "kernelspec": {
   "display_name": "R",
   "language": "R",
   "name": "ir"
  },
  "language_info": {
   "codemirror_mode": "r",
   "file_extension": ".r",
   "mimetype": "text/x-r-source",
   "name": "R",
   "pygments_lexer": "r",
   "version": "3.6.1"
  }
 },
 "nbformat": 4,
 "nbformat_minor": 2
}
