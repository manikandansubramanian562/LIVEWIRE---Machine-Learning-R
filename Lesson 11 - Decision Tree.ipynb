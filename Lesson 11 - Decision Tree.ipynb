{
 "cells": [
  {
   "cell_type": "code",
   "execution_count": 22,
   "metadata": {},
   "outputs": [
    {
     "name": "stderr",
     "output_type": "stream",
     "text": [
      "Registered S3 method overwritten by 'tree':\n",
      "  method     from\n",
      "  print.tree cli \n"
     ]
    }
   ],
   "source": [
    "library(tidyverse)\n",
    "library(tree)"
   ]
  },
  {
   "cell_type": "code",
   "execution_count": 2,
   "metadata": {},
   "outputs": [],
   "source": [
    "df <- read.csv(\"StudentData.csv\")"
   ]
  },
  {
   "cell_type": "code",
   "execution_count": 3,
   "metadata": {},
   "outputs": [
    {
     "data": {
      "text/html": [
       "<table>\n",
       "<thead><tr><th scope=col>ï..Designation</th><th scope=col>GPA</th><th scope=col>Study_Time</th></tr></thead>\n",
       "<tbody>\n",
       "\t<tr><td>Struggling</td><td>2.40      </td><td>3.86      </td></tr>\n",
       "\t<tr><td>Honors    </td><td>4.20      </td><td>3.57      </td></tr>\n",
       "\t<tr><td>Struggling</td><td>2.47      </td><td>3.95      </td></tr>\n",
       "\t<tr><td>Average   </td><td>2.32      </td><td>2.21      </td></tr>\n",
       "\t<tr><td>Average   </td><td>4.30      </td><td>0.56      </td></tr>\n",
       "\t<tr><td>Average   </td><td>2.30      </td><td>2.35      </td></tr>\n",
       "</tbody>\n",
       "</table>\n"
      ],
      "text/latex": [
       "\\begin{tabular}{r|lll}\n",
       " ï..Designation & GPA & Study\\_Time\\\\\n",
       "\\hline\n",
       "\t Struggling & 2.40       & 3.86      \\\\\n",
       "\t Honors     & 4.20       & 3.57      \\\\\n",
       "\t Struggling & 2.47       & 3.95      \\\\\n",
       "\t Average    & 2.32       & 2.21      \\\\\n",
       "\t Average    & 4.30       & 0.56      \\\\\n",
       "\t Average    & 2.30       & 2.35      \\\\\n",
       "\\end{tabular}\n"
      ],
      "text/markdown": [
       "\n",
       "| ï..Designation | GPA | Study_Time |\n",
       "|---|---|---|\n",
       "| Struggling | 2.40       | 3.86       |\n",
       "| Honors     | 4.20       | 3.57       |\n",
       "| Struggling | 2.47       | 3.95       |\n",
       "| Average    | 2.32       | 2.21       |\n",
       "| Average    | 4.30       | 0.56       |\n",
       "| Average    | 2.30       | 2.35       |\n",
       "\n"
      ],
      "text/plain": [
       "  ï..Designation GPA  Study_Time\n",
       "1 Struggling     2.40 3.86      \n",
       "2 Honors         4.20 3.57      \n",
       "3 Struggling     2.47 3.95      \n",
       "4 Average        2.32 2.21      \n",
       "5 Average        4.30 0.56      \n",
       "6 Average        2.30 2.35      "
      ]
     },
     "metadata": {},
     "output_type": "display_data"
    }
   ],
   "source": [
    "head(df)"
   ]
  },
  {
   "cell_type": "code",
   "execution_count": 4,
   "metadata": {},
   "outputs": [
    {
     "data": {
      "text/plain": [
       "    ï..Designation      GPA          Study_Time   \n",
       " Average   :14     Min.   :2.100   Min.   :0.420  \n",
       " Honors    : 6     1st Qu.:2.325   1st Qu.:1.905  \n",
       " Struggling: 7     Median :2.780   Median :2.400  \n",
       "                   Mean   :3.107   Mean   :2.642  \n",
       "                   3rd Qu.:4.000   3rd Qu.:3.810  \n",
       "                   Max.   :4.700   Max.   :4.200  "
      ]
     },
     "metadata": {},
     "output_type": "display_data"
    }
   ],
   "source": [
    "summary(df)"
   ]
  },
  {
   "cell_type": "code",
   "execution_count": 14,
   "metadata": {},
   "outputs": [
    {
     "data": {
      "image/png": "[encoded data removed]",
      "text/plain": [
       "plot without title"
      ]
     },
     "metadata": {},
     "output_type": "display_data"
    }
   ],
   "source": [
    "ggplot(data = df) +\n",
    "    geom_point(mapping = aes(x=Study_Time, y= GPA, color = ï..Designation))"
   ]
  },
  {
   "cell_type": "code",
   "execution_count": 25,
   "metadata": {},
   "outputs": [],
   "source": [
    "tree.student_data = tree(ï..Designation~., data = df)"
   ]
  },
  {
   "cell_type": "code",
   "execution_count": 27,
   "metadata": {},
   "outputs": [
    {
     "data": {
      "image/png": "[encoded data removed]",
      "text/plain": [
       "plot without title"
      ]
     },
     "metadata": {},
     "output_type": "display_data"
    }
   ],
   "source": [
    "plot(tree.student_data)\n",
    "text(tree.student_data,pretty=0)"
   ]
  },
  {
   "cell_type": "code",
   "execution_count": 28,
   "metadata": {},
   "outputs": [
    {
     "data": {
      "text/plain": [
       "node), split, n, deviance, yval, (yprob)\n",
       "      * denotes terminal node\n",
       "\n",
       "1) root 27 55.34 Average ( 0.5185 0.2222 0.2593 )  \n",
       "  2) Study_Time < 2.97 14  0.00 Average ( 1.0000 0.0000 0.0000 ) *\n",
       "  3) Study_Time > 2.97 13 17.94 Struggling ( 0.0000 0.4615 0.5385 )  \n",
       "    6) GPA < 3.335 7  0.00 Struggling ( 0.0000 0.0000 1.0000 ) *\n",
       "    7) GPA > 3.335 6  0.00 Honors ( 0.0000 1.0000 0.0000 ) *"
      ]
     },
     "metadata": {},
     "output_type": "display_data"
    }
   ],
   "source": [
    "tree.student_data"
   ]
  },
  {
   "cell_type": "markdown",
   "metadata": {},
   "source": [
    "The purpose of this notebook is to provide examples of how to create and use decision trees for prediction.\n",
    "The code is inspired by two sources:\n",
    "\n",
    "James, G., Witten, D., Hastie, T., & Tibshirani, R. (2017). An introduction to statistical learning: with applications in R. New York: Springer.\n",
    "\n",
    "Le, J. (2018, June 19). Decision Trees in R. Retrieved October 29, 2019, from https://www.datacamp.com/community/tutorials/decision-trees-R."
   ]
  }
 ],
 "metadata": {
  "kernelspec": {
   "display_name": "R",
   "language": "R",
   "name": "ir"
  },
  "language_info": {
   "codemirror_mode": "r",
   "file_extension": ".r",
   "mimetype": "text/x-r-source",
   "name": "R",
   "pygments_lexer": "r",
   "version": "3.6.1"
  }
 },
 "nbformat": 4,
 "nbformat_minor": 2
}
